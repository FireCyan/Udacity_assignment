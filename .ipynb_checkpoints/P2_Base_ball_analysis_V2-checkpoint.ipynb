{
 "cells": [
  {
   "cell_type": "code",
   "execution_count": 109,
   "metadata": {
    "collapsed": false
   },
   "outputs": [
    {
     "name": "stdout",
     "output_type": "stream",
     "text": [
      "      yearID lgID teamID franchID divID  Rank    G  Ghome   W   L  \\\n",
      "2775    2015   AL    KCA      KCR     C     1  162   81.0  95  67   \n",
      "2776    2015   AL    MIN      MIN     C     2  162   81.0  83  79   \n",
      "2777    2015   AL    CLE      CLE     C     3  161   80.0  81  80   \n",
      "2778    2015   AL    CHA      CHW     C     4  162   81.0  76  86   \n",
      "2779    2015   AL    DET      DET     C     5  161   81.0  74  87   \n",
      "\n",
      "         ...          DP     FP                name                 park  \\\n",
      "2775     ...       138.0  0.985  Kansas City Royals     Kauffman Stadium   \n",
      "2776     ...       150.0  0.986     Minnesota Twins         Target Field   \n",
      "2777     ...       136.0  0.987   Cleveland Indians    Progressive Field   \n",
      "2778     ...       159.0  0.983   Chicago White Sox  U.S. Cellular Field   \n",
      "2779     ...       165.0  0.986      Detroit Tigers        Comerica Park   \n",
      "\n",
      "      attendance  BPF  PPF  teamIDBR  teamIDlahman45  teamIDretro  \n",
      "2775   2708549.0  104  103       KCR             KCA          KCA  \n",
      "2776   2220054.0  103  104       MIN             MIN          MIN  \n",
      "2777   1388905.0  106  106       CLE             CLE          CLE  \n",
      "2778   1755810.0   97   96       CHW             CHA          CHA  \n",
      "2779   2726048.0   97   98       DET             DET          DET  \n",
      "\n",
      "[5 rows x 48 columns]\n"
     ]
    }
   ],
   "source": [
    "import pandas as pd\n",
    "import numpy as np\n",
    "import matplotlib as plt\n",
    "import seaborn as sns\n",
    "import statsmodels.formula.api as sm\n",
    "from sklearn.linear_model import LinearRegression\n",
    "import scipy, scipy.stats\n",
    "\n",
    "year = 2015\n",
    "\n",
    "\n",
    "team_data = pd.read_csv('C:/Users/John/Desktop/Udacity_data_scientist_nanodegree/P2/Assignment/baseballdatabank-master/Teams.csv')\n",
    "\n",
    "\n",
    "# Analyse a specific year first (most recent one)\n",
    "team_year_data = team_data[team_data['yearID'] == year]\n",
    "print(team_year_data.head()) # to quickly check the data"
   ]
  },
  {
   "cell_type": "code",
   "execution_count": 128,
   "metadata": {
    "collapsed": false
   },
   "outputs": [
    {
     "name": "stderr",
     "output_type": "stream",
     "text": [
      "C:\\ProgramData\\Anaconda3\\lib\\site-packages\\ipykernel\\__main__.py:34: SettingWithCopyWarning: \n",
      "A value is trying to be set on a copy of a slice from a DataFrame\n",
      "\n",
      "See the caveats in the documentation: http://pandas.pydata.org/pandas-docs/stable/indexing.html#indexing-view-versus-copy\n",
      "C:\\ProgramData\\Anaconda3\\lib\\site-packages\\pandas\\core\\generic.py:4702: SettingWithCopyWarning: \n",
      "A value is trying to be set on a copy of a slice from a DataFrame\n",
      "\n",
      "See the caveats in the documentation: http://pandas.pydata.org/pandas-docs/stable/indexing.html#indexing-view-versus-copy\n",
      "  self._update_inplace(new_data)\n",
      "C:\\ProgramData\\Anaconda3\\lib\\site-packages\\ipykernel\\__main__.py:42: SettingWithCopyWarning: \n",
      "A value is trying to be set on a copy of a slice from a DataFrame\n",
      "\n",
      "See the caveats in the documentation: http://pandas.pydata.org/pandas-docs/stable/indexing.html#indexing-view-versus-copy\n",
      "C:\\ProgramData\\Anaconda3\\lib\\site-packages\\ipykernel\\__main__.py:43: SettingWithCopyWarning: \n",
      "A value is trying to be set on a copy of a slice from a DataFrame.\n",
      "Try using .loc[row_indexer,col_indexer] = value instead\n",
      "\n",
      "See the caveats in the documentation: http://pandas.pydata.org/pandas-docs/stable/indexing.html#indexing-view-versus-copy\n",
      "C:\\ProgramData\\Anaconda3\\lib\\site-packages\\ipykernel\\__main__.py:44: SettingWithCopyWarning: \n",
      "A value is trying to be set on a copy of a slice from a DataFrame\n",
      "\n",
      "See the caveats in the documentation: http://pandas.pydata.org/pandas-docs/stable/indexing.html#indexing-view-versus-copy\n",
      "C:\\ProgramData\\Anaconda3\\lib\\site-packages\\ipykernel\\__main__.py:45: SettingWithCopyWarning: \n",
      "A value is trying to be set on a copy of a slice from a DataFrame.\n",
      "Try using .loc[row_indexer,col_indexer] = value instead\n",
      "\n",
      "See the caveats in the documentation: http://pandas.pydata.org/pandas-docs/stable/indexing.html#indexing-view-versus-copy\n"
     ]
    },
    {
     "name": "stdout",
     "output_type": "stream",
     "text": [
      "Populating the interactive namespace from numpy and matplotlib\n",
      "Bad team feature statistics:\n",
      "\n",
      "count     19.000000\n",
      "mean     675.368421\n",
      "std       39.243132\n",
      "min      613.000000\n",
      "25%      647.000000\n",
      "50%      669.000000\n",
      "75%      699.500000\n",
      "max      748.000000\n",
      "Name: R, dtype: float64\n",
      "-----------------------------\n",
      "Good team feature statistics:\n",
      "\n",
      "count      9.000000\n",
      "mean     705.666667\n",
      "std       38.958311\n",
      "min      647.000000\n",
      "25%      683.000000\n",
      "50%      697.000000\n",
      "75%      729.000000\n",
      "max      764.000000\n",
      "Name: R, dtype: float64\n",
      "\n",
      "\n",
      "Mann-Whitney U result\n",
      "Statistic is 60.5\n",
      "p-value is 0.0430670141517\n",
      "Since p-value is less than 0.05, feature R is significantly different between the good and bad teams\n",
      "\n",
      "\n",
      "\n",
      "Significantly different features between the good and bad teams are:\n",
      "['R', '2B', 'HR', 'BB', 'HBP']\n"
     ]
    },
    {
     "data": {
      "image/png": "[encoded data removed]",
      "text/plain": [
       "<matplotlib.figure.Figure at 0xff10208>"
      ]
     },
     "metadata": {},
     "output_type": "display_data"
    }
   ],
   "source": [
    "# Look at the winning statistics of all teams (both American League (AL) and National League (NL))\n",
    "\n",
    "# There are 30 teams (15 in AL and 15 in NL) while only 10 get into post seaons. I categorise the teams into \n",
    "# better performing ones and average ones based on whether they get into post season or not.\n",
    "\n",
    "# Better perfomring teams\n",
    "G_team_year_data = team_year_data[(team_year_data['DivWin'] == 'Y')|(team_year_data['WCWin'] == 'Y')]\n",
    "B_team_year_data = team_year_data[(team_year_data['DivWin'] == 'N')&(team_year_data['WCWin'] == 'N')]\n",
    "#%pylab inline\n",
    "#figH1, H1Axes = plt.subplots(nrows=2, ncols=2, sharex = False, figsize = (15,20))\n",
    "#team_year_data.hist(column = 'W', ax=H1Axes[0,0])\n",
    "\n",
    "#print(G_team_year_data.head(10))\n",
    "\n",
    "# Batting features (R, AB, H, 2B, 3B, HR, BB, SO, SB, CS, HBP, SF)\n",
    "\n",
    "bat_feature = [\"R\", \"AB\", \"H\", \"2B\", \"3B\", \"HR\", \"BB\", \"SO\", \"SB\", \"CS\", \"HBP\", \"SF\"]\n",
    "\n",
    "feature = \"R\" # input one of the feature to have a quick exploratory investigation\n",
    "\n",
    "remove_outlier = \"Y\" # If N, no data will be exlcuded. If Y, outliers will be excluded\n",
    "\n",
    "\n",
    "def remove_ol(SR):\n",
    "    filt_SR = SR\n",
    "    low = .25\n",
    "    high = .75\n",
    "    quant_25_SR = filt_SR.quantile(low)\n",
    "    quant_75_SR = filt_SR.quantile(high)\n",
    "    \n",
    "    IQR = quant_75_SR - quant_25_SR\n",
    "    mean_val = filt_SR.mean()\n",
    "    \n",
    "    filt_SR[(filt_SR < mean_val - 1.5 * IQR) | (filt_SR > mean_val + 1.5 * IQR)] = numpy.nan\n",
    "    \n",
    "            #filt_SR = SR[(SR > mean_val - 1.5 * IQR) & (SR < mean_val + 1.5 * IQR)]\n",
    "    return filt_SR\n",
    "\n",
    "#test = remove_ol(B_team_year_data[feature])\n",
    "\n",
    "if remove_outlier == \"Y\":\n",
    "    temp_series = remove_ol(B_team_year_data[feature])\n",
    "    B_team_year_data[feature] = temp_series\n",
    "    temp_series = remove_ol(G_team_year_data[feature])\n",
    "    G_team_year_data[feature] = temp_series\n",
    "\n",
    "\n",
    "#bins = numpy.linspace(team_year_data[feature].min, team_year_data[feature].max, 10)\n",
    "\n",
    "# Plotting the feature histogram, showing both good teams and bad teams feature histograms on the same graph\n",
    "%pylab inline\n",
    "figF1, F1Axes = plt.subplots(nrows=1, ncols=1, sharex = False, figsize = (10,8))\n",
    "B_team_year_data.hist(column = feature, bins = 40, ax=F1Axes)\n",
    "G_team_year_data.hist(column = feature, bins = 40, ax=F1Axes)\n",
    "\n",
    "# Feature statstics of good and bad teams\n",
    "print(\"Bad team feature statistics:\\n\")\n",
    "print(B_team_year_data[feature].describe())\n",
    "print(\"-----------------------------\")\n",
    "print(\"Good team feature statistics:\\n\")\n",
    "print(G_team_year_data[feature].describe())\n",
    "\n",
    "# Hypothesis testing (unequal sample t-test)\n",
    "# H0: the means between good and bad teams are not different\n",
    "# H1: the means between good and bad teams are different; reject null hypothesis\n",
    "# Since the sample size is unequal and small, it is hard to assume normal distribution. Therefore, I used Mann-Whitney U test\n",
    "\n",
    "print(\"\\n\")\n",
    "print(\"Mann-Whitney U result\")\n",
    "\n",
    "[statistic, p_value] = scipy.stats.mannwhitneyu(B_team_year_data[feature], G_team_year_data[feature], use_continuity=True, alternative=None)\n",
    "\n",
    "print(\"Statistic is\", statistic)\n",
    "print(\"p-value is\", p_value)\n",
    "\n",
    "if p_value < 0.05:\n",
    "    print(\"Since p-value is less than 0.05, feature\", feature, \"is significantly different between the good and bad teams\")\n",
    "else:\n",
    "    print(\"Since p-value is larger than 0.05, feature\", feature, \"is NOT significantly different between the good and bad teams\")\n",
    "\n",
    "    \n",
    "# finding out the significant features    \n",
    "sig_feature = []\n",
    "for bf in bat_feature:\n",
    "    [statistic, p_value] = scipy.stats.mannwhitneyu(B_team_year_data[bf], G_team_year_data[bf], use_continuity=True, alternative=None)\n",
    "    if p_value < 0.05:\n",
    "        sig_feature.append(bf)\n",
    "\n",
    "print(\"\\n\\n\")\n",
    "print(\"Significantly different features between the good and bad teams are:\")\n",
    "print(sig_feature)"
   ]
  },
  {
   "cell_type": "code",
   "execution_count": null,
   "metadata": {
    "collapsed": false
   },
   "outputs": [],
   "source": []
  },
  {
   "cell_type": "code",
   "execution_count": null,
   "metadata": {
    "collapsed": true
   },
   "outputs": [],
   "source": []
  },
  {
   "cell_type": "code",
   "execution_count": null,
   "metadata": {
    "collapsed": true
   },
   "outputs": [],
   "source": []
  }
 ],
 "metadata": {
  "kernelspec": {
   "display_name": "Python 3",
   "language": "python",
   "name": "python3"
  },
  "language_info": {
   "codemirror_mode": {
    "name": "ipython",
    "version": 3
   },
   "file_extension": ".py",
   "mimetype": "text/x-python",
   "name": "python",
   "nbconvert_exporter": "python",
   "pygments_lexer": "ipython3",
   "version": "3.6.0"
  }
 },
 "nbformat": 4,
 "nbformat_minor": 2
}
